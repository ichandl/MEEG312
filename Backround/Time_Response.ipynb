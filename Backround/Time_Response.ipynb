{
 "cells": [
  {
   "cell_type": "markdown",
   "metadata": {},
   "source": [
    "# Time Response of Linear Systems\n",
    "\n",
    "## Contents:\n",
    "\n",
    "1. [Equations of Motion](#eoms)\n",
    "1. [Transfer Functions](#tfs)\n",
    "1. [Step Response](#step)\n",
    "1. [Comparing Systems, Multi-line Plots](#comp)\n",
    "1. [scipy.signal.lsim: Response to Arbitrary Inputs](#lsim)"
   ]
  },
  {
   "cell_type": "markdown",
   "metadata": {},
   "source": [
    "<a id='eoms'></a>\n",
    "\n",
    "### Equations of Motion\n",
    "\n",
    "Let's begin with a simple, yet representative, mechanical system: the mass-spring-damper system shown below.  A free-body-diagram (FBD) of this system appears to the right.\n",
    "\n",
    "<img src=\"https://github.com/AdaWick/MEEG312/blob/master/Lab1/mass%20spring%20damper.png?raw=true\" width=\"600\" />\n",
    "\n",
    "The equation of motion (EOM) for this system derived using Newton's Second Law is as follows:\n",
    "\n",
    "\\\\(m \\ddot{x} = \\sum F_x = -b \\dot{x} - kx + F\\\\)\n",
    "\n",
    "which can be rewritten as\n",
    "\n",
    "\\\\(m \\ddot{x} + b \\dot{x} + kx = F\\\\)"
   ]
  },
  {
   "cell_type": "markdown",
   "metadata": {},
   "source": [
    "<a id='tfs'></a>\n",
    "\n",
    "### Transfer Functions\n",
    "\n",
    "The transfer function of a system is defined by the equation:\n",
    "\n",
    "\\\\(G(s) = \\dfrac{\\mathcal{L}[\\text{output}]}{\\mathcal{L}[\\text{input}]}\\\\)\n",
    "\n",
    "where \\\\(\\mathcal{L}[\\cdot]\\\\) signifies the Laplace transform *assuming zero initial conditions*.  Of course, different systems will have different inputs and outputs.  For example, inputs may be force, torque, voltage, pressure, etc.  Outputs may be position, velocity, current, flow rate, etc.\n",
    "\n",
    "For the mass-spring-damper system, the input is \\\\(F(t)\\\\) and the output is \\\\(x(t)\\\\).  Hence,\n",
    "\n",
    "\\\\(G(s) = \\dfrac{\\mathcal{L}[x(t)]}{\\mathcal{L}[F(t)]} \\equiv \\dfrac{X(s)}{F(s)}\\\\)\n",
    "\n",
    "where we've used the usual convention that the Laplace variable is capatalized if the time variable is not.\n",
    "\n",
    "Taking the Laplace transform of the EOM (assuming zero initial conditions) yields\n",
    "\n",
    "\\\\(ms^2X(s) + bsX(s) + kX(s) = F(s)\\\\)\n",
    "\n",
    "(Recall that each time derivative produces an \\\\(s\\\\) factor in front of the transformed function.)\n",
    "\n",
    "Rearranging the last equation into transfer function form gives\n",
    "\n",
    "\\\\(G(s) = \\dfrac{X(s)}{F(x)} = \\dfrac{1}{ms^2 + bs + k}\\\\)\n",
    "\n",
    "Now, let's enter this transfer function into Python.  To study linear systems, we will make heavy use of the [scipy.signal package](https://docs.scipy.org/doc/scipy/reference/signal.html), particularly the functions under the \"Continuous Time Linear Systems\" and \"LTI Representations\" categories.  Specifically, to create a transfer function, we will use the [scipy.signal.TransferFunction](https://docs.scipy.org/doc/scipy/reference/generated/scipy.signal.TransferFunction.html) command.  The first input is an array of numerator coefficients, and the second input is an array of denominator coefficients."
   ]
  },
  {
   "cell_type": "code",
   "execution_count": null,
   "metadata": {},
   "outputs": [],
   "source": [
    "import scipy.signal as ss\n",
    "import matplotlib.pyplot as plt\n",
    "import numpy as np"
   ]
  },
  {
   "cell_type": "code",
   "execution_count": null,
   "metadata": {},
   "outputs": [],
   "source": [
    "m = 5\n",
    "b = 1\n",
    "k = 10\n",
    "num = [1]\n",
    "den = [m, b, k]\n",
    "\n",
    "G = ss.TransferFunction(num,den)\n",
    "print(G)"
   ]
  },
  {
   "cell_type": "markdown",
   "metadata": {},
   "source": [
    "You can see that the output shows two arrays, one for the numerator and one for the denominator.  Python automatically normalizes the transfer function so that the leading coefficient of the denominator is 1.\n",
    "\n",
    "You can get this result yourself by dividing the numerator and denominator by $m$:\n",
    "\n",
    "$G(s) = \\dfrac{1}{ms^2 + bs + k} = \\dfrac{1}{5s^2 + s + 10} = \\dfrac{0.2}{s^2 + 0.2s + 2}$"
   ]
  },
  {
   "cell_type": "markdown",
   "metadata": {},
   "source": [
    "**Exercise:**\n",
    "\n",
    "In the following code block, create these transfer functions:\n",
    "\n",
    "1. \\\\(G_1(s) = \\dfrac{s+2}{2s+4}\\\\)\n",
    "\n",
    "2. \\\\(G_2(s) = \\dfrac{s+2}{2s^2+4}\\\\)\n",
    "\n",
    "3. \\\\(G_3(s) = \\dfrac{s}{s^2+6s+4}\\\\)\n",
    "\n",
    "Note that you must use a `0` placeholder if a power of \\\\(s\\\\) is unwritten."
   ]
  },
  {
   "cell_type": "code",
   "execution_count": null,
   "metadata": {},
   "outputs": [],
   "source": []
  },
  {
   "cell_type": "markdown",
   "metadata": {},
   "source": [
    "<a id='step'></a>\n",
    "\n",
    "### Step Response\n",
    "\n",
    "The [step response](https://en.wikipedia.org/wiki/Step_response) of a linear system is the response of a system, initially at rest, to a unit step input.  This type of input is \\\\(0\\\\) for \\\\(t > 0\\\\) and \\\\(1\\\\) for \\\\(t \\geq 0\\\\).\n",
    "\n",
    "Some examples of applying a (non-unit) step:\n",
    "\n",
    "* Dropping a ball: the total external force steps from \\\\(0\\\\) to \\\\(-mg\\\\).\n",
    "\n",
    "* Connecting a motor to a battery: the applied voltage steps from \\\\(0\\\\) to the battery voltage\n",
    "\n",
    "The [scipy.signal.step](https://docs.scipy.org/doc/scipy/reference/generated/scipy.signal.step.html) command takes as its input a transfer function, i.e. the ouput of the `TransferFunction` function.  To plot the response, we need to import [pyplot](https://matplotlib.org/api/pyplot_summary.html)."
   ]
  },
  {
   "cell_type": "code",
   "execution_count": null,
   "metadata": {},
   "outputs": [],
   "source": [
    "t,y = ss.step(G)\n",
    "\n",
    "plt.plot(t,y)\n",
    "plt.title('Step response');"
   ]
  },
  {
   "cell_type": "markdown",
   "metadata": {},
   "source": [
    "**Exercise:**\n",
    "\n",
    "Plot the unit step responses for the systems \\\\(G_1(s)\\\\), \\\\(G_2(s)\\\\), and \\\\(G_3(s)\\\\) from the previous exercise.  How do these responses differ qualitatively?"
   ]
  },
  {
   "cell_type": "code",
   "execution_count": null,
   "metadata": {},
   "outputs": [],
   "source": []
  },
  {
   "cell_type": "markdown",
   "metadata": {},
   "source": [
    "Let's say you want to compute the step response at specific points in time.  First, let's create our own time vector, increments of 0.5 seconds from 0 to 70 seconds.  Then, we can use this vector as the second input to the [scipy.signal.step](https://docs.scipy.org/doc/scipy/reference/generated/scipy.signal.step.html) function.\n",
    "\n",
    "To create this time vector, we will use the [numpy.arange](https://docs.scipy.org/doc/numpy/reference/generated/numpy.arange.html) function, which creates an array with a given starting point, stopping point, and step size."
   ]
  },
  {
   "cell_type": "code",
   "execution_count": null,
   "metadata": {},
   "outputs": [],
   "source": [
    "t,y = ss.step(G,T=np.arange(0,70.5,0.5))\n",
    "\n",
    "plt.plot(t,y)\n",
    "plt.title('Step response');"
   ]
  },
  {
   "cell_type": "markdown",
   "metadata": {},
   "source": [
    "Note that this plot still looks a bit rough.  Let's decrease the step size to 0.1 and try again."
   ]
  },
  {
   "cell_type": "code",
   "execution_count": null,
   "metadata": {},
   "outputs": [],
   "source": [
    "t,y = ss.step(G,T=np.arange(0,70.1,0.1))\n",
    "\n",
    "plt.plot(t,y)\n",
    "plt.title('Step response');"
   ]
  },
  {
   "cell_type": "markdown",
   "metadata": {},
   "source": [
    "This plot looks a lot smoother."
   ]
  },
  {
   "cell_type": "markdown",
   "metadata": {},
   "source": [
    "<a id='comp'></a>\n",
    "\n",
    "### Comparing Systems, Multi-line Plots\n",
    "\n",
    "When designing the dynamic response of a system, you may wish to plot the step responses of several systems using different parameter values.  The step response of the mass-spring-damper system plotted previously had many high frequency oscillations.  Perhaps different value of spring constant \\\\(k\\\\) could reduce or eliminate those oscillations.\n",
    "\n",
    "Let's plot the step response for the mass-spring-damper system for several values of \\\\(k\\\\), all on the same axes."
   ]
  },
  {
   "cell_type": "code",
   "execution_count": null,
   "metadata": {},
   "outputs": [],
   "source": [
    "m = 5\n",
    "b = 1\n",
    "k_list = [5, 10, 12]   # list of different k values to plot\n",
    "\n",
    "for k in k_list:\n",
    "    num = [1]\n",
    "    den = [m, b, k]\n",
    "    G = ss.TransferFunction(num,den)\n",
    "    \n",
    "    t,y = ss.step(G,T=np.arange(0,70.1,0.1))\n",
    "    plt.plot(t,y,label = f'k = {k}') # replaces {} with the value of k\n",
    "\n",
    "plt.legend();"
   ]
  },
  {
   "cell_type": "markdown",
   "metadata": {},
   "source": [
    "<a id='lsim'></a>\n",
    "\n",
    "### scipy.signal.lsim: Response to Arbitrary Inputs\n",
    "\n",
    "So far we've plotted the response of the mass-spring-damper system to a unit step input using the function [scipy.signal.step](https://docs.scipy.org/doc/scipy/reference/generated/scipy.signal.step.html).\n",
    "\n",
    "You can similarly plot the [unit impulse response](https://en.wikipedia.org/wiki/Impulse_response) of a linear system using the [scipy.signal.impulse](https://docs.scipy.org/doc/scipy/reference/generated/scipy.signal.impulse.html) function.\n",
    "\n",
    "In this section, you will utilize a more genertic function for plotting the response of a linear system to any arbitrary function of time: [scipy.signal.lsim](https://docs.scipy.org/doc/scipy/reference/generated/scipy.signal.lsim.html).\n",
    "\n",
    "To use this function, we need to specify an array of time steps \\\\(t\\\\)  over which the system will be simulated and an array of values of the input \\\\(u(t)\\\\) at these time steps.\n",
    "\n",
    "In this example, we will plot the response of the system to the input \\\\(u(t) = 3 \\sin(2t)\\\\):"
   ]
  },
  {
   "cell_type": "code",
   "execution_count": null,
   "metadata": {},
   "outputs": [],
   "source": [
    "t = np.linspace(0,40,201)\n",
    "u = 3*np.sin(2*t)\n",
    "\n",
    "t_out,y,x = ss.lsim(G,u,t)\n",
    "\n",
    "plt.plot(t,u,t_out,y)\n",
    "plt.legend(('Input u(t)','Output y(t)'));"
   ]
  },
  {
   "cell_type": "markdown",
   "metadata": {},
   "source": [
    "Note that the system seems to reach steady state after \\\\(t=30\\\\)."
   ]
  }
 ],
 "metadata": {
  "kernelspec": {
   "display_name": "Python 3",
   "language": "python",
   "name": "python3"
  },
  "language_info": {
   "codemirror_mode": {
    "name": "ipython",
    "version": 3
   },
   "file_extension": ".py",
   "mimetype": "text/x-python",
   "name": "python",
   "nbconvert_exporter": "python",
   "pygments_lexer": "ipython3",
   "version": "3.8.3"
  }
 },
 "nbformat": 4,
 "nbformat_minor": 2
}
