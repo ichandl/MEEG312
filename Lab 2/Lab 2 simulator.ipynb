{
 "cells": [
  {
   "cell_type": "markdown",
   "metadata": {},
   "source": [
    "###### Content under Creative Commons Attribution license CC-BY 4.0, code under BSD 3-Clause License © 2021 Adam Wickenheiser"
   ]
  },
  {
   "cell_type": "markdown",
   "metadata": {},
   "source": [
    "## Lab 2 Simulator\n",
    "\n",
    "This Python code is a simulation of the motor-driven mass-spring-damper experiment used in Lab 2.  This code will output a text file of data in the same format as output by the data acquisition software used in lab.\n",
    "\n",
    "The following cells only need to be run once to load libraries and define functions.  We define the function `cart_forced_response`, to set up the given physical characteristics of the system as well as the equation of motion to govern the system.  This function is called by `solve_ivp` in a later cell, which is similar to MATLAB's `ode23` or `ode45`."
   ]
  },
  {
   "cell_type": "code",
   "execution_count": null,
   "metadata": {},
   "outputs": [],
   "source": [
    "import numpy as np\n",
    "import matplotlib.pyplot as plt\n",
    "from scipy.integrate import solve_ivp\n",
    "import matplotlib.patches as mpatches\n",
    "from matplotlib.transforms import Affine2D\n",
    "from matplotlib.animation import FuncAnimation\n",
    "from IPython.display import HTML"
   ]
  },
  {
   "cell_type": "code",
   "execution_count": null,
   "metadata": {},
   "outputs": [],
   "source": [
    "def cart_forced_response(t,z,n_weights,damp_percent,KP,KI,KD):\n",
    "    \n",
    "    global I, e_prev\n",
    "    \n",
    "    # constants\n",
    "    m = 0.3 + 0.49*n_weights\n",
    "    b = 4 + 10*damp_percent\n",
    "    k = 660.0\n",
    "    mu = 0.02\n",
    "    g = 9.81\n",
    "    \n",
    "    # derived system parameters\n",
    "    A = b/m\n",
    "    B = k/m\n",
    "    K = 10000/m\n",
    "    C = A*B - 0.35*K\n",
    "    \n",
    "    # error\n",
    "    if t < dwell_time:\n",
    "        r = float(commanded_pos)/160410    # convert counts to meters\n",
    "    else:\n",
    "        r = 0.0\n",
    "    e = r - z[0]\n",
    "    \n",
    "    # feedback law\n",
    "    I = I + e*dt\n",
    "    deriv = (e-e_prev)/dt\n",
    "    e_prev = e\n",
    "    u_max = 10.0\n",
    "    u = np.maximum(np.minimum(u_max,KP*e + KI/10*I + KD*500*deriv),-u_max)\n",
    "    \n",
    "    #zdot = [z[1], (b*z[1]+k*z[0]+mu*m*g*np.sign(z[1])-u)/(-m)]\n",
    "    zdot = [z[1], z[2], -C*z[0]-B*z[1]-A*z[2]+K*u]\n",
    "    \n",
    "    return zdot"
   ]
  },
  {
   "cell_type": "markdown",
   "metadata": {},
   "source": [
    "In the following cell, set the parameters of the experiment.  These are:\n",
    "\n",
    "1. The commanded position of the cart, measured in encoder counts (keep this at 1000 for every simulation)\n",
    "1. The dwell time, which is the period of the step-up (this should nominally be 3.0, but you may need to increase this by a few seconds if the cart is not reaching steady state before the step down)\n",
    "1. The number of weights attached to the cart (keep this at 2 for every simulation)\n",
    "1. The tightness of the air damper valve screw (keep this at 0.5 for every simulation)\n",
    "\n",
    "Each time you change any of these parameters, you must re-run the cell."
   ]
  },
  {
   "cell_type": "code",
   "execution_count": null,
   "metadata": {},
   "outputs": [],
   "source": [
    "commanded_pos = 1000 # amplitude of step function [encoder counts]\n",
    "dwell_time = 3.0     # duration of the step up [s]\n",
    "\n",
    "n_weights = 2        # number of weights attached to the cart\n",
    "damp_percent = 0.5   # tightness of the air damper valve screw\n",
    "\n",
    "# controller gains\n",
    "KP = 0.1             # proportional gain\n",
    "KI = 0.0             # integral gain\n",
    "KD = 0.0             # derivative gain"
   ]
  },
  {
   "cell_type": "markdown",
   "metadata": {},
   "source": [
    "Run the following cell to run the simulation, plot the position vs. time graph, and create an animation of the cart's motion.  Note: this may take a few seconds to run; make sure you can observe the animation and plot before proceeding."
   ]
  },
  {
   "cell_type": "code",
   "execution_count": null,
   "metadata": {},
   "outputs": [],
   "source": [
    "t_span = [0.0, 2*dwell_time]\n",
    "dt = 0.009\n",
    "t_eval = np.arange(t_span[0],t_span[1],dt)\n",
    "z0 = [0, 0, 0]\n",
    "I = 0.0\n",
    "e_prev = 0.0\n",
    "sol = solve_ivp(cart_forced_response,t_span,z0,t_eval=t_eval,args=(n_weights,damp_percent,KP,KI,KD))\n",
    "\n",
    "r = np.zeros_like(sol.t)\n",
    "r[sol.t<dwell_time] = commanded_pos/160410*100\n",
    "r[0] = 0\n",
    "plt.figure(figsize=(10,5))\n",
    "plt.plot(sol.t,100*sol.y[0,:],sol.t,r)\n",
    "plt.ylabel('Cart position [cm]')\n",
    "plt.xlabel('Time [s]')\n",
    "\n",
    "fig, ax = plt.subplots() # You may need to adjust the figsize to fit your screen\n",
    "\n",
    "# Draw the cart\n",
    "w_cart = 12.7    # cart width [cm]\n",
    "h_cart = 5.4     # cart height [cm]\n",
    "d_wheel = 2.5    # wheel diameter [cm]\n",
    "\n",
    "cart = mpatches.Rectangle([-w_cart/2,d_wheel],w_cart,h_cart,linewidth=1,edgecolor='k',facecolor='b')\n",
    "ax.add_patch(cart)\n",
    "left_wheel = mpatches.Circle((-w_cart/4,d_wheel/2),d_wheel/2,linewidth=1,edgecolor='k',facecolor='w')\n",
    "ax.add_patch(left_wheel)\n",
    "right_wheel = mpatches.Circle((w_cart/4,d_wheel/2),d_wheel/2,linewidth=1,edgecolor='k',facecolor='w')\n",
    "ax.add_patch(right_wheel)\n",
    "motor_input = mpatches.Rectangle([-15.1,d_wheel+h_cart/4],0.1,h_cart/2,linewidth=1,edgecolor='k',facecolor='k')\n",
    "ax.add_patch(motor_input)\n",
    "x_spring = np.linspace(0,1,501)\n",
    "y_spring = np.sin((2*np.pi*10)*x_spring)\n",
    "spring = plt.plot(x_spring,y_spring,color='k',linewidth=1)[0]\n",
    "ax.add_line(spring)\n",
    "plt.xlim((-16,16))\n",
    "plt.ylim((0,12))\n",
    "\n",
    "# Initialize the axes for animation\n",
    "def init():\n",
    "    ax.set_aspect('equal')\n",
    "    return (cart,left_wheel,right_wheel,motor_input,spring)\n",
    "\n",
    "    \n",
    "# Update the position of the cart at time t_eval[i]\n",
    "def update(i):\n",
    "    x_cart = 100*sol.y[0,i]\n",
    "    \n",
    "    cart.set_transform(Affine2D().translate(x_cart,0) + ax.transData)\n",
    "    left_wheel.set_transform(Affine2D().translate(x_cart,0) + ax.transData)\n",
    "    right_wheel.set_transform(Affine2D().translate(x_cart,0) + ax.transData)\n",
    "    spring.set_transform(Affine2D().scale(15-w_cart/2+x_cart,1) + Affine2D().translate(-15,d_wheel+h_cart/2) + ax.transData)\n",
    "    return (cart,left_wheel,right_wheel,motor_input,spring)\n",
    "\n",
    "ani = FuncAnimation(fig, update, frames=range(int(t_eval.size)), init_func=init, interval=dt, blit=True, repeat=False)\n",
    "plt.close()\n",
    "HTML(ani.to_jshtml(1/dt))"
   ]
  },
  {
   "cell_type": "markdown",
   "metadata": {},
   "source": [
    "Run the following cell to save your data in a text file in the current folder.  This file will contain time and position (\"Encoder 1 Pos\") data points, as well as the commanded position \"Commanded Pos\" (the square wave reference trajectory)."
   ]
  },
  {
   "cell_type": "code",
   "execution_count": null,
   "metadata": {},
   "outputs": [],
   "source": [
    "dataout = np.zeros((t_eval.size,6))\n",
    "r = np.zeros_like(t_eval)\n",
    "r[t_eval<dwell_time] = commanded_pos\n",
    "dataout[:,0] = range(t_eval.size)\n",
    "dataout[:,1] = sol.t\n",
    "dataout[:,2] = r\n",
    "dataout[:,3] = 160410*sol.y[0,:]\n",
    "\n",
    "print('Enter file name for saving data (without extension):')\n",
    "filename = input()+'.txt'\n",
    "np.savetxt(filename,dataout,fmt=['%d','%2.3f','%d','%d','%d','%d'],delimiter='\\t',header=' Sample   Time     Commanded Pos   Encoder 1 Pos   Encoder 2 Pos   Encoder 3 Pos \\n')"
   ]
  },
  {
   "cell_type": "markdown",
   "metadata": {},
   "source": [
    "Now, you have a data file that is identical to the in-lab hardware you can use to analyze the system.  You should repeat the simulation for the other trials by updating the parameters in the third cell from the top and running the subsequent cells."
   ]
  }
 ],
 "metadata": {
  "kernelspec": {
   "display_name": "Python 3",
   "language": "python",
   "name": "python3"
  },
  "language_info": {
   "codemirror_mode": {
    "name": "ipython",
    "version": 3
   },
   "file_extension": ".py",
   "mimetype": "text/x-python",
   "name": "python",
   "nbconvert_exporter": "python",
   "pygments_lexer": "ipython3",
   "version": "3.8.10"
  }
 },
 "nbformat": 4,
 "nbformat_minor": 2
}
